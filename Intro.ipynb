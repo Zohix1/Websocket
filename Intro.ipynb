{
 "cells": [
  {
   "metadata": {},
   "cell_type": "raw",
   "source": [
    "websocket_project/\n",
    "│\n",
    "├── app/\n",
    "│   ├── __init__.py           # 创建 Flask 应用实例，初始化 SocketIO 和导入路由及事件处理\n",
    "│   ├── events.py             # WebSocket 事件处理逻辑\n",
    "│   ├── routes/               # 定义 HTTP 路由，处理页面渲染和普通的 HTTP 请求\n",
    "│   │   ├── __init__.py       # 导入路由类\n",
    "│   │   └── file_model.py     # 定义处理的http请求接口\n",
    "│   ├── models/\n",
    "│   │   ├── __init__.py       # 导入数据存储类\n",
    "│   │   └── file_model.py     # 定义文件的存储类\n",
    "│   ├── services/\n",
    "│   │   ├── __init__.py       # 导入服务类\n",
    "│   │   └── file_service.py   # 文件生成的业务逻辑处理类\n",
    "│   ├── utils/\n",
    "│   │   ├── __init__.py       # 导入工具类\n",
    "│   │   └── file_utils.py     # 文件操作的工具类函数\n",
    "│   ├── static/\n",
    "│   │   ├── uploads/          # 用于upload上传的文件\n",
    "│   │   └── files/            # 存放项目中产生的文件\n",
    "│   └── controllers/          # 控制器类，用于协调服务类的调用\n",
    "│       ├── __init__.py       # 导入控制器类\n",
    "│       └── file_controller.py# 控制器类，调用服务类处理业务逻辑\n",
    "│\n",
    "├── config.py                 # 项目的配置文件，如密钥、上传路径等\n",
    "├── manage.py                 # 项目入口文件，运行 Flask 和 SocketIO 应用\n",
    "├── requirements.txt          # 项目的依赖库列表，用于环境配置\n",
    "└── Intro.ipynb               # 项目结构与使用说明"
   ],
   "id": "5c19f758fc0bd79a"
  }
 ],
 "metadata": {
  "kernelspec": {
   "display_name": "Python 3",
   "language": "python",
   "name": "python3"
  },
  "language_info": {
   "codemirror_mode": {
    "name": "ipython",
    "version": 2
   },
   "file_extension": ".py",
   "mimetype": "text/x-python",
   "name": "python",
   "nbconvert_exporter": "python",
   "pygments_lexer": "ipython2",
   "version": "2.7.6"
  }
 },
 "nbformat": 4,
 "nbformat_minor": 5
}
